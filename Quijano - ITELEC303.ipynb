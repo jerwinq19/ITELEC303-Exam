{
 "cells": [
  {
   "cell_type": "markdown",
   "id": "e5c61b18-4cd6-49f3-b302-4d9ce25806a9",
   "metadata": {},
   "source": [
    "# Importing Libraries\n",
    "***\n",
    "### Analyst: Jerwin Nico H. Quijano"
   ]
  },
  {
   "cell_type": "code",
   "execution_count": 59,
   "id": "3f37e453-a24a-4be4-81c3-4f5c7a52b755",
   "metadata": {},
   "outputs": [],
   "source": [
    "import pandas as pd\n",
    "import numpy as np\n",
    "import seaborn as sns\n",
    "import matplotlib.pyplot as plt\n",
    "import warnings \n",
    "import folium\n",
    "from folium.plugins import HeatMap\n",
    "warnings.filterwarnings('ignore')"
   ]
  },
  {
   "cell_type": "code",
   "execution_count": null,
   "id": "bc909428-71cf-4aa0-9aef-d8f4ad38fd09",
   "metadata": {},
   "outputs": [],
   "source": [
    "data = pd.read_csv('datasets//chicago_2001_present.csv', low_memory=False)"
   ]
  },
  {
   "cell_type": "code",
   "execution_count": null,
   "id": "be55ba42-28fa-476b-8e00-3a448ca1fb3f",
   "metadata": {},
   "outputs": [],
   "source": [
    "data.head(50)"
   ]
  },
  {
   "cell_type": "code",
   "execution_count": null,
   "id": "b52dcf02-56a1-425c-9a54-463fbce9c9d0",
   "metadata": {},
   "outputs": [],
   "source": [
    "data.dtypes"
   ]
  },
  {
   "cell_type": "markdown",
   "id": "aeb30651-6ee4-4337-ab7f-506f6f432428",
   "metadata": {},
   "source": [
    "# Cleaning Data add Adding appropriate values\n",
    "___"
   ]
  },
  {
   "cell_type": "code",
   "execution_count": null,
   "id": "d6a2980a-f6e6-4c4c-a84c-209ce0470d39",
   "metadata": {},
   "outputs": [],
   "source": [
    "data['Location Description'] = data['Location Description'].fillna('unaccounted')\n",
    "data['District'] = data['District'].fillna(data['District'].mean())\n",
    "data['Ward'] = data['Ward'].fillna(-1) # -1 represent as unknown ward\n",
    "data['Community Area'] = data['Community Area'].fillna(-1) # -1 represent as unknown community area\n",
    "data['X Coordinate'] = data['X Coordinate'].fillna(data['X Coordinate'].mean())\n",
    "data['Y Coordinate'] = data['Y Coordinate'].fillna(data['Y Coordinate'].mean())\n",
    "data['Latitude'] = data['Latitude'].fillna(data['Latitude'].mean())\n",
    "data['Longitude'] = data['Longitude'].fillna(data['Longitude'].mean())\n",
    "data['Location'] = data['Location'].fillna(data['Location'].mode()[0])"
   ]
  },
  {
   "cell_type": "code",
   "execution_count": null,
   "id": "b293c96a-17d8-4967-a348-fcc1622c2701",
   "metadata": {},
   "outputs": [],
   "source": [
    "data.isnull().sum()"
   ]
  },
  {
   "cell_type": "markdown",
   "id": "487bd787-65a5-455d-97be-38afe04f5f24",
   "metadata": {},
   "source": [
    "### Adding Community Name\n",
    "***"
   ]
  },
  {
   "cell_type": "code",
   "execution_count": null,
   "id": "3aeee77c-0cf0-462b-b6af-cb8bf22617f3",
   "metadata": {},
   "outputs": [],
   "source": [
    "community_map = {\n",
    "    1: \"Rogers Park\",\n",
    "    2: \"West Ridge\",\n",
    "    3: \"Uptown\",\n",
    "    4: \"Lincoln Square\",\n",
    "    5: \"North Center\",\n",
    "    6: \"Lake View\",\n",
    "    7: \"Lincoln Park\",\n",
    "    8: \"Near North Side\",\n",
    "    9: \"Edison Park\",\n",
    "    10: \"Norwood Park\",\n",
    "    11: \"Jefferson Park\",\n",
    "    12: \"Forest Glen\",\n",
    "    13: \"North Park\",\n",
    "    14: \"Albany Park\",\n",
    "    15: \"Portage Park\",\n",
    "    16: \"Irving Park\",\n",
    "    17: \"Dunning\",\n",
    "    18: \"Montclare\",\n",
    "    19: \"Belmont Cragin\",\n",
    "    20: \"Hermosa\",\n",
    "    21: \"Avondale\",\n",
    "    22: \"Logan Square\",\n",
    "    23: \"Humboldt Park\",\n",
    "    24: \"West Town\",\n",
    "    25: \"Austin\",\n",
    "    26: \"West Garfield Park\",\n",
    "    27: \"East Garfield Park\",\n",
    "    28: \"Near West Side\",\n",
    "    29: \"North Lawndale\",\n",
    "    30: \"South Lawndale\",\n",
    "    31: \"Lower West Side\",\n",
    "    32: \"Loop\",\n",
    "    33: \"Near South Side\",\n",
    "    34: \"Armour Square\",\n",
    "    35: \"Douglas\",\n",
    "    36: \"Oakland\",\n",
    "    37: \"Fuller Park\",\n",
    "    38: \"Grand Boulevard\",\n",
    "    39: \"Kenwood\",\n",
    "    40: \"Washington Park\",\n",
    "    41: \"Hyde Park\",\n",
    "    42: \"Woodlawn\",\n",
    "    43: \"South Shore\",\n",
    "    44: \"Chatham\",\n",
    "    45: \"Avalon Park\",\n",
    "    46: \"South Chicago\",\n",
    "    47: \"Burnside\",\n",
    "    48: \"Calumet Heights\",\n",
    "    49: \"Roseland\",\n",
    "    50: \"Pullman\",\n",
    "    51: \"South Deering\",\n",
    "    52: \"East Side\",\n",
    "    53: \"West Pullman\",\n",
    "    54: \"Riverdale\",\n",
    "    55: \"Hegewisch\",\n",
    "    56: \"Garfield Ridge\",\n",
    "    57: \"Archer Heights\",\n",
    "    58: \"Brighton Park\",\n",
    "    59: \"McKinley Park\",\n",
    "    60: \"Bridgeport\",\n",
    "    61: \"New City\",\n",
    "    62: \"West Elsdon\",\n",
    "    63: \"Gage Park\",\n",
    "    64: \"Clearing\",\n",
    "    65: \"West Lawn\",\n",
    "    66: \"Chicago Lawn\",\n",
    "    67: \"West Englewood\",\n",
    "    68: \"Englewood\",\n",
    "    69: \"Greater Grand Crossing\",\n",
    "    70: \"Ashburn\",\n",
    "    71: \"Auburn Gresham\",\n",
    "    72: \"Beverly\",\n",
    "    73: \"Washington Heights\",\n",
    "    74: \"Mount Greenwood\",\n",
    "    75: \"Morgan Park\",\n",
    "    76: \"O'Hare\",\n",
    "    77: \"Edgewater\",\n",
    "    -1: \"Unknown\"\n",
    "}\n",
    "\n",
    "data['community_name'] = data['Community Area'].map(community_map)"
   ]
  },
  {
   "cell_type": "markdown",
   "id": "f1de1afa-3b76-4d4b-bb4c-992abcc49f34",
   "metadata": {},
   "source": [
    "### Adding Ward Names\n",
    "***"
   ]
  },
  {
   "cell_type": "code",
   "execution_count": null,
   "id": "bd2a82c3-6ae8-4910-8e36-7f0d72cef6e7",
   "metadata": {},
   "outputs": [],
   "source": [
    "ward_names = {\n",
    "    1: \"Daniel La Spata\",\n",
    "    2: \"Brian Hopkins\",\n",
    "    3: \"Pat Dowell\",\n",
    "    4: \"Lamont J. Robinson\",\n",
    "    5: \"Desmon C. Yancy\",\n",
    "    6: \"William E. Hall\",\n",
    "    7: \"Gregory Mitchell\",\n",
    "    8: \"Michelle Harris\",\n",
    "    9: \"Anthony Beale\",\n",
    "    10: \"Peter Chico\",\n",
    "    11: \"Nicole T. Lee\",\n",
    "    12: \"Julia M. Ramirez\",\n",
    "    13: \"Marty Quinn\",\n",
    "    14: \"Jeylu B. Gutierrez\",\n",
    "    15: \"Raymond Lopez\",\n",
    "    16: \"Stephanie D. Coleman\",\n",
    "    17: \"David Moore\",\n",
    "    18: \"Derrick G. Curtis\",\n",
    "    19: \"Matthew J. O’Shea\",\n",
    "    20: \"Jeanette B. Taylor\",\n",
    "    21: \"Ronnie L. Mosley\",\n",
    "    22: \"Michael D. Rodriguez\",\n",
    "    23: \"Silvana Tabares\",\n",
    "    24: \"Monique L. Scott\",\n",
    "    25: \"Byron Sigcho Lopez\",\n",
    "    26: \"Jessica Fuentes\",\n",
    "    27: \"Walter Redmond Burnett\",\n",
    "    28: \"Jason C. Ervin\",\n",
    "    29: \"Chris Taliaferro\",\n",
    "    30: \"Ruth Cruz\",\n",
    "    31: \"Felix Cardona, Jr.\",\n",
    "    32: \"Scott Waguespack\",\n",
    "    33: \"Rossana Rodriguez Sanchez\",\n",
    "    34: \"William Conway\",\n",
    "    35: \"Anthony Quezada\",\n",
    "    36: \"Gilbert Villegas\",\n",
    "    37: \"Emma Mitts\",\n",
    "    38: \"Nicholas Sposato\",\n",
    "    39: \"Samantha Nugent\",\n",
    "    40: \"Andre Vasquez, Jr.\",\n",
    "    41: \"Anthony Napolitano\",\n",
    "    42: \"Brendan Reilly\",\n",
    "    43: \"Timmy Knudsen\",\n",
    "    44: \"Bennett R. Lawson\",\n",
    "    45: \"James M. Gardiner\",\n",
    "    46: \"Angela Clay\",\n",
    "    47: \"Matthew J. Martin\",\n",
    "    48: \"Leni Manaa-Hoppenworth\",\n",
    "    49: \"Maria E. Hadden\",\n",
    "    50: \"Debra Silverstein\",\n",
    "    -1: \"Unknown\"\n",
    "}\n",
    "\n",
    "data['ward_rep'] = data['Ward'].map(ward_names)"
   ]
  },
  {
   "cell_type": "markdown",
   "id": "d1ee660c-72b3-4298-a11d-9cf615d54428",
   "metadata": {},
   "source": [
    "# Descriptive analysis\n",
    "***\n",
    "1. What is the most occuring Crime in O block ('Grand Boulevard')"
   ]
  },
  {
   "cell_type": "code",
   "execution_count": null,
   "id": "f1d1d096-3229-4ca0-b172-478ad61f3d31",
   "metadata": {},
   "outputs": [],
   "source": [
    "data.info()"
   ]
  },
  {
   "cell_type": "code",
   "execution_count": null,
   "id": "69fa9112-c4d7-4d51-b5ae-ef0c6d9d7853",
   "metadata": {},
   "outputs": [],
   "source": [
    "O_block_df = data[data['community_name'] == 'Grand Boulevard']\n"
   ]
  },
  {
   "cell_type": "code",
   "execution_count": null,
   "id": "f57ee98e-6a0c-43ba-bd3f-9d3fc63b9d99",
   "metadata": {},
   "outputs": [],
   "source": [
    "o_block_year = O_block_df.groupby('Year').size().reset_index(name='crime')\n",
    "sns.lineplot(data=o_block_year, x='Year', y='crime', marker='o')\n",
    "plt.show()"
   ]
  },
  {
   "cell_type": "code",
   "execution_count": null,
   "id": "42994fb4-4afb-4f59-aad4-fe3f52a4f4e1",
   "metadata": {},
   "outputs": [],
   "source": [
    "data"
   ]
  },
  {
   "cell_type": "code",
   "execution_count": null,
   "id": "d761f9f9-17b6-4eac-9a96-92e772dcff2f",
   "metadata": {},
   "outputs": [],
   "source": []
  }
 ],
 "metadata": {
  "kernelspec": {
   "display_name": "Python 3 (ipykernel)",
   "language": "python",
   "name": "python3"
  },
  "language_info": {
   "codemirror_mode": {
    "name": "ipython",
    "version": 3
   },
   "file_extension": ".py",
   "mimetype": "text/x-python",
   "name": "python",
   "nbconvert_exporter": "python",
   "pygments_lexer": "ipython3",
   "version": "3.13.1"
  }
 },
 "nbformat": 4,
 "nbformat_minor": 5
}
