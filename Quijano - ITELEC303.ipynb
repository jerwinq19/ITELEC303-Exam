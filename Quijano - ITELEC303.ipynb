{
 "cells": [
  {
   "cell_type": "markdown",
   "id": "e5c61b18-4cd6-49f3-b302-4d9ce25806a9",
   "metadata": {},
   "source": [
    "# Importing Libraries\n",
    "***\n",
    "### Analyst: Jerwin Nico H. Quijano"
   ]
  },
  {
   "cell_type": "code",
   "execution_count": 1,
   "id": "3f37e453-a24a-4be4-81c3-4f5c7a52b755",
   "metadata": {},
   "outputs": [],
   "source": [
    "import pandas as pd\n",
    "import numpy as np\n",
    "import seaborn as sns\n",
    "import matplotlib.pyplot as plt\n",
    "import warnings \n",
    "import folium\n",
    "from folium.plugins import HeatMap\n",
    "warnings.filterwarnings('ignore')"
   ]
  },
  {
   "cell_type": "code",
   "execution_count": null,
   "id": "bc909428-71cf-4aa0-9aef-d8f4ad38fd09",
   "metadata": {},
   "outputs": [],
   "source": [
    "data = pd.read_csv('datasets//chicago_2001_present.csv', low_memory=False)"
   ]
  },
  {
   "cell_type": "code",
   "execution_count": null,
   "id": "be55ba42-28fa-476b-8e00-3a448ca1fb3f",
   "metadata": {},
   "outputs": [],
   "source": [
    "data.head(50)"
   ]
  },
  {
   "cell_type": "code",
   "execution_count": null,
   "id": "48d35d32-22f1-44af-b89e-2600d11bf822",
   "metadata": {},
   "outputs": [],
   "source": [
    "data['Date'] = data['Date'].astype('str')\n",
    "data['Date'] = pd.to_datetime(data['Date'], dayfirst=True, errors = 'coerce')"
   ]
  },
  {
   "cell_type": "code",
   "execution_count": null,
   "id": "07843cd4-6377-48a6-96c5-ca5dd5cf1cb8",
   "metadata": {},
   "outputs": [],
   "source": [
    "data['Year'] = data['Date'].dt.year\n",
    "data['Month'] = data['Date'].dt.month\n",
    "data['Day'] = data['Date'].dt.day\n",
    "data['DayOfWeek'] = data['Date'].dt.dayofweek\n",
    "data['HourOfDay'] = data['Date'].dt.hour\n",
    "data['MinuteOfDay'] = data[\"Date\"].dt.minute"
   ]
  },
  {
   "cell_type": "code",
   "execution_count": null,
   "id": "b52dcf02-56a1-425c-9a54-463fbce9c9d0",
   "metadata": {},
   "outputs": [],
   "source": [
    "data.dtypes"
   ]
  },
  {
   "cell_type": "markdown",
   "id": "aeb30651-6ee4-4337-ab7f-506f6f432428",
   "metadata": {},
   "source": [
    "# Cleaning Data add Adding appropriate values\n",
    "___"
   ]
  },
  {
   "cell_type": "code",
   "execution_count": null,
   "id": "d6a2980a-f6e6-4c4c-a84c-209ce0470d39",
   "metadata": {},
   "outputs": [],
   "source": [
    "data['Location Description'] = data['Location Description'].fillna('unaccounted')\n",
    "data['District'] = data['District'].fillna(data['District'].mean())\n",
    "data['Ward'] = data['Ward'].fillna(-1) # -1 represent as unknown ward\n",
    "data['Community Area'] = data['Community Area'].fillna(-1) # -1 represent as unknown community area\n",
    "data['X Coordinate'] = data['X Coordinate'].fillna(data['X Coordinate'].mean())\n",
    "data['Y Coordinate'] = data['Y Coordinate'].fillna(data['Y Coordinate'].mean())\n",
    "data['Latitude'] = data['Latitude'].fillna(data['Latitude'].mean())\n",
    "data['Longitude'] = data['Longitude'].fillna(data['Longitude'].mean())\n",
    "data['Location'] = data['Location'].fillna(data['Location'].mode()[0])"
   ]
  },
  {
   "cell_type": "code",
   "execution_count": null,
   "id": "b293c96a-17d8-4967-a348-fcc1622c2701",
   "metadata": {},
   "outputs": [],
   "source": [
    "data.isnull().sum()"
   ]
  },
  {
   "cell_type": "markdown",
   "id": "487bd787-65a5-455d-97be-38afe04f5f24",
   "metadata": {},
   "source": [
    "### Adding Community Name\n",
    "***"
   ]
  },
  {
   "cell_type": "code",
   "execution_count": null,
   "id": "3aeee77c-0cf0-462b-b6af-cb8bf22617f3",
   "metadata": {},
   "outputs": [],
   "source": [
    "community_map = {\n",
    "    1: \"Rogers Park\",\n",
    "    2: \"West Ridge\",\n",
    "    3: \"Uptown\",\n",
    "    4: \"Lincoln Square\",\n",
    "    5: \"North Center\",\n",
    "    6: \"Lake View\",\n",
    "    7: \"Lincoln Park\",\n",
    "    8: \"Near North Side\",\n",
    "    9: \"Edison Park\",\n",
    "    10: \"Norwood Park\",\n",
    "    11: \"Jefferson Park\",\n",
    "    12: \"Forest Glen\",\n",
    "    13: \"North Park\",\n",
    "    14: \"Albany Park\",\n",
    "    15: \"Portage Park\",\n",
    "    16: \"Irving Park\",\n",
    "    17: \"Dunning\",\n",
    "    18: \"Montclare\",\n",
    "    19: \"Belmont Cragin\",\n",
    "    20: \"Hermosa\",\n",
    "    21: \"Avondale\",\n",
    "    22: \"Logan Square\",\n",
    "    23: \"Humboldt Park\",\n",
    "    24: \"West Town\",\n",
    "    25: \"Austin\",\n",
    "    26: \"West Garfield Park\",\n",
    "    27: \"East Garfield Park\",\n",
    "    28: \"Near West Side\",\n",
    "    29: \"North Lawndale\",\n",
    "    30: \"South Lawndale\",\n",
    "    31: \"Lower West Side\",\n",
    "    32: \"Loop\",\n",
    "    33: \"Near South Side\",\n",
    "    34: \"Armour Square\",\n",
    "    35: \"Douglas\",\n",
    "    36: \"Oakland\",\n",
    "    37: \"Fuller Park\",\n",
    "    38: \"Grand Boulevard\",\n",
    "    39: \"Kenwood\",\n",
    "    40: \"Washington Park\",\n",
    "    41: \"Hyde Park\",\n",
    "    42: \"Woodlawn\",\n",
    "    43: \"South Shore\",\n",
    "    44: \"Chatham\",\n",
    "    45: \"Avalon Park\",\n",
    "    46: \"South Chicago\",\n",
    "    47: \"Burnside\",\n",
    "    48: \"Calumet Heights\",\n",
    "    49: \"Roseland\",\n",
    "    50: \"Pullman\",\n",
    "    51: \"South Deering\",\n",
    "    52: \"East Side\",\n",
    "    53: \"West Pullman\",\n",
    "    54: \"Riverdale\",\n",
    "    55: \"Hegewisch\",\n",
    "    56: \"Garfield Ridge\",\n",
    "    57: \"Archer Heights\",\n",
    "    58: \"Brighton Park\",\n",
    "    59: \"McKinley Park\",\n",
    "    60: \"Bridgeport\",\n",
    "    61: \"New City\",\n",
    "    62: \"West Elsdon\",\n",
    "    63: \"Gage Park\",\n",
    "    64: \"Clearing\",\n",
    "    65: \"West Lawn\",\n",
    "    66: \"Chicago Lawn\",\n",
    "    67: \"West Englewood\",\n",
    "    68: \"Englewood\",\n",
    "    69: \"Greater Grand Crossing\",\n",
    "    70: \"Ashburn\",\n",
    "    71: \"Auburn Gresham\",\n",
    "    72: \"Beverly\",\n",
    "    73: \"Washington Heights\",\n",
    "    74: \"Mount Greenwood\",\n",
    "    75: \"Morgan Park\",\n",
    "    76: \"O'Hare\",\n",
    "    77: \"Edgewater\",\n",
    "    -1: \"Unknown\"\n",
    "}\n",
    "\n",
    "data['community_name'] = data['Community Area'].map(community_map)"
   ]
  },
  {
   "cell_type": "markdown",
   "id": "f1de1afa-3b76-4d4b-bb4c-992abcc49f34",
   "metadata": {},
   "source": [
    "### Adding Ward Names\n",
    "***"
   ]
  },
  {
   "cell_type": "code",
   "execution_count": null,
   "id": "bd2a82c3-6ae8-4910-8e36-7f0d72cef6e7",
   "metadata": {},
   "outputs": [],
   "source": [
    "ward_names = {\n",
    "    1: \"Daniel La Spata\",\n",
    "    2: \"Brian Hopkins\",\n",
    "    3: \"Pat Dowell\",\n",
    "    4: \"Lamont J. Robinson\",\n",
    "    5: \"Desmon C. Yancy\",\n",
    "    6: \"William E. Hall\",\n",
    "    7: \"Gregory Mitchell\",\n",
    "    8: \"Michelle Harris\",\n",
    "    9: \"Anthony Beale\",\n",
    "    10: \"Peter Chico\",\n",
    "    11: \"Nicole T. Lee\",\n",
    "    12: \"Julia M. Ramirez\",\n",
    "    13: \"Marty Quinn\",\n",
    "    14: \"Jeylu B. Gutierrez\",\n",
    "    15: \"Raymond Lopez\",\n",
    "    16: \"Stephanie D. Coleman\",\n",
    "    17: \"David Moore\",\n",
    "    18: \"Derrick G. Curtis\",\n",
    "    19: \"Matthew J. O’Shea\",\n",
    "    20: \"Jeanette B. Taylor\",\n",
    "    21: \"Ronnie L. Mosley\",\n",
    "    22: \"Michael D. Rodriguez\",\n",
    "    23: \"Silvana Tabares\",\n",
    "    24: \"Monique L. Scott\",\n",
    "    25: \"Byron Sigcho Lopez\",\n",
    "    26: \"Jessica Fuentes\",\n",
    "    27: \"Walter Redmond Burnett\",\n",
    "    28: \"Jason C. Ervin\",\n",
    "    29: \"Chris Taliaferro\",\n",
    "    30: \"Ruth Cruz\",\n",
    "    31: \"Felix Cardona, Jr.\",\n",
    "    32: \"Scott Waguespack\",\n",
    "    33: \"Rossana Rodriguez Sanchez\",\n",
    "    34: \"William Conway\",\n",
    "    35: \"Anthony Quezada\",\n",
    "    36: \"Gilbert Villegas\",\n",
    "    37: \"Emma Mitts\",\n",
    "    38: \"Nicholas Sposato\",\n",
    "    39: \"Samantha Nugent\",\n",
    "    40: \"Andre Vasquez, Jr.\",\n",
    "    41: \"Anthony Napolitano\",\n",
    "    42: \"Brendan Reilly\",\n",
    "    43: \"Timmy Knudsen\",\n",
    "    44: \"Bennett R. Lawson\",\n",
    "    45: \"James M. Gardiner\",\n",
    "    46: \"Angela Clay\",\n",
    "    47: \"Matthew J. Martin\",\n",
    "    48: \"Leni Manaa-Hoppenworth\",\n",
    "    49: \"Maria E. Hadden\",\n",
    "    50: \"Debra Silverstein\",\n",
    "    -1: \"Unknown\"\n",
    "}\n",
    "\n",
    "data['ward_rep'] = data['Ward'].map(ward_names)"
   ]
  },
  {
   "cell_type": "markdown",
   "id": "d1ee660c-72b3-4298-a11d-9cf615d54428",
   "metadata": {},
   "source": [
    "# Descriptive analysis\n",
    "***\n",
    "1. Which ward during their term has recorded the highest overall crime in Grand Boulevard?\n",
    "2. Which District Area has the most recorded crime?\n",
    "3. What Type of Crime often commit in the community area with most Poverty ('Riverdale')?\n",
    "4. What is the Top 5 safest Neigborhood to live in Chichago with least Crime committed?\n",
    "5. What Type of crime is commited in the saftes neighborhood in Chichago?\n",
    "6. What is the hotspot of Theft in the safest neighborhood in chicago\n",
    "7. Are sex-related crimes increasing again in recent years after a decade of decline?\n",
    "8. Is there a strong relationship between time (year) and the decline of sex-related crimes in Chicago?\n",
    "9. "
   ]
  },
  {
   "cell_type": "code",
   "execution_count": null,
   "id": "f1d1d096-3229-4ca0-b172-478ad61f3d31",
   "metadata": {},
   "outputs": [],
   "source": [
    "data.info()"
   ]
  },
  {
   "cell_type": "markdown",
   "id": "b6872252-98d0-450c-880c-78284a03579e",
   "metadata": {},
   "source": [
    "# Grand Boulevard Analysis\n",
    "***\n",
    "<img src='https://upload.wikimedia.org/wikipedia/commons/2/20/20070511_Harold_Washington_Cultual_Center.JPG'>"
   ]
  },
  {
   "cell_type": "code",
   "execution_count": null,
   "id": "69fa9112-c4d7-4d51-b5ae-ef0c6d9d7853",
   "metadata": {},
   "outputs": [],
   "source": [
    "gb_df = data[data['community_name'] == 'Grand Boulevard']"
   ]
  },
  {
   "cell_type": "code",
   "execution_count": null,
   "id": "50894c48-ccee-45aa-b8f6-9d6d71bf1054",
   "metadata": {},
   "outputs": [],
   "source": [
    "most_crime = gb_df.groupby(['ward_rep']).size().reset_index(name='crime')\n",
    "most_crime['crime_pct'] = (most_crime['crime'] / most_crime['crime'].sum()) * 100 # display by percentage\n",
    "plt.grid(axis='y', alpha=0.3)\n",
    "sns.barplot(data = most_crime, x = 'ward_rep', y = 'crime_pct', hue = 'ward_rep')\n",
    "plt.show()"
   ]
  },
  {
   "cell_type": "markdown",
   "id": "74d45bc2-f2d6-4c75-b719-4d4144976db8",
   "metadata": {},
   "source": [
    "## Insight\n",
    "***\n",
    "So looking the data represented by percent, it is clear that the crime is heavily concentrated in one area which is Pat Dowel Ward for over most atleast 70%  of all reported crime acroos three wards shown, Lamont J. Robinson on the other hand makes about a quarter of What Pat Dowell in total, while Jeanette B. Taylor ward contributes to almost nothing with a least of 1%. This jus suggest that Pat Dowells Ward should be the priority cause that where all the i think majority problems lies. "
   ]
  },
  {
   "cell_type": "code",
   "execution_count": null,
   "id": "d761f9f9-17b6-4eac-9a96-92e772dcff2f",
   "metadata": {},
   "outputs": [],
   "source": [
    "area_no_uknown = data[data['community_name'] != 'Unknown']"
   ]
  },
  {
   "cell_type": "code",
   "execution_count": null,
   "id": "8e428db4-aabb-4bc8-bee5-07ffc63c1de8",
   "metadata": {},
   "outputs": [],
   "source": [
    "areas_with_high_crime = area_no_uknown.groupby('community_name').size().reset_index(name='crime').nlargest(10, 'crime')\n",
    "areas_with_high_crime\n",
    "sns.barplot(data = areas_with_high_crime, x = 'community_name', y = 'crime', hue = 'community_name')\n",
    "plt.gcf().set_size_inches(15,7)\n",
    "plt.show()"
   ]
  },
  {
   "cell_type": "markdown",
   "id": "8dfb7224-cfb2-40f0-b442-e0b396f89143",
   "metadata": {},
   "source": [
    "## Insight\n",
    "***\n",
    "Austin is overwhelmingly the community with the highest recorded number of crime incidents among the top ten, nearing 500,000 and standing as a significant outlier when compared to the others, which suggests that this area is the single most problematic region in terms of raw crime volume in the dataset. The next group of communities, including Near North Side, South Shore, and others down to North Lawndale, form a second tier with substantially lower yet high crime counts, mostly concentrated between approximately 225,000 and 300,000 incidents. The final three communities in the top ten—Auburn Gresham, West Englewood, and Roseland—all register counts just above 200,000, demonstrating that while the total crime counts are high across the list, there is a pronounced and notable difference between the top-ranked area and the rest of the high-crime communities."
   ]
  },
  {
   "cell_type": "markdown",
   "id": "1deaf819-d71c-4159-8102-01cb6538e702",
   "metadata": {},
   "source": [
    "## River Dale Chichago Poverty Community\n",
    "<img src ='https://media.istockphoto.com/id/185325242/photo/small-midwest-town-riverdale-chicago.jpg?s=1024x1024&w=is&k=20&c=D3Wl60yt1G5jnr115Z-EaJ2f0xwi7_7X3aDJL3rkeno='>"
   ]
  },
  {
   "cell_type": "code",
   "execution_count": null,
   "id": "43b562cf-f864-47f0-8b25-91497d492731",
   "metadata": {},
   "outputs": [],
   "source": [
    "riverdale_df = data[data['community_name'] == 'Riverdale']"
   ]
  },
  {
   "cell_type": "code",
   "execution_count": null,
   "id": "72d162bb-7d32-4dac-9e79-910c835ecb44",
   "metadata": {},
   "outputs": [],
   "source": [
    "riverdale_crime_type = riverdale_df['Primary Type'].value_counts().reset_index(name=\"crime\")\n",
    "riverdale_crime_type\n",
    "sns.barplot(data = riverdale_crime_type, y = 'Primary Type', x = 'crime', orient = 'h', hue = 'Primary Type')\n",
    "plt.gcf().set_size_inches(15,7)\n",
    "plt.grid(axis='x', alpha=0.3)\n",
    "plt.show()"
   ]
  },
  {
   "cell_type": "markdown",
   "id": "fa79dfa4-1ca1-4298-b000-b435d2b250d5",
   "metadata": {},
   "source": [
    "## Insight\n",
    "***\n",
    "If you look at the chart, Riverdale’s crime problem is mostly about people hurting people. Battery is crazy high compared to everything else — meaning fights, violence, and physical attacks are the everyday issue there. Right after that, you see a lot of Criminal Damage (like breaking stuff, vandalism) and Assault. Theft and drug cases also show up a lot, which makes sense since money is tight and people sometimes turn to quick cash or drugs."
   ]
  },
  {
   "cell_type": "code",
   "execution_count": null,
   "id": "2a312bac-fb10-423e-9eeb-7b5c0735209d",
   "metadata": {},
   "outputs": [],
   "source": [
    "top_5_safest = data.groupby('community_name').size().reset_index(name = 'crime').nsmallest(5, 'crime')\n",
    "sns.barplot(data = top_5_safest, x = 'community_name', y = 'crime', hue = 'community_name')\n",
    "plt.xticks(rotation = 20)\n",
    "plt.show()"
   ]
  },
  {
   "cell_type": "markdown",
   "id": "e76e4d70-3d98-4382-a200-14b7e9f9e77a",
   "metadata": {},
   "source": [
    "## Insight\n",
    "***\n",
    "If you’re looking for a safe neighborhood in Chicago, the data says: Edison Park is the safest place to live — way fewer crimes than anywhere else. After that, Burnside, Forest Glen, Mount Greenwood, and Hegewisch follow, but they still have more cases than Edison Park. Basically, if safety is your main concern, these five neighborhoods are your best bets, with Edison Park being the clear winner."
   ]
  },
  {
   "cell_type": "code",
   "execution_count": null,
   "id": "4f65c310-703d-4b14-99d6-d314e160e0a5",
   "metadata": {},
   "outputs": [],
   "source": [
    "edison_df = data[data['community_name'] == 'Edison Park']"
   ]
  },
  {
   "cell_type": "code",
   "execution_count": null,
   "id": "7a28d0e3-3893-48b2-9c4b-e0792111521c",
   "metadata": {},
   "outputs": [],
   "source": [
    "edison_crimes = data['Primary Type'].value_counts().reset_index(name='crime')\n",
    "sns.barplot(data = edison_crimes, y = 'Primary Type', x = 'crime', orient = 'h', hue = 'Primary Type')\n",
    "plt.gcf().set_size_inches(15,7)\n",
    "plt.grid(axis='x', alpha=0.3)\n",
    "plt.show()"
   ]
  },
  {
   "cell_type": "markdown",
   "id": "4c8a4f2f-4a6e-4ba9-94f1-972a8e57fb2e",
   "metadata": {},
   "source": [
    "## Insight\n",
    "***\n",
    "I was suprise that the most safest neighborhood still has crime. Theft is the number one leading crime committed, So while Edisone park doesn't have crazy levels of violence like in riverdale, people here still deal with their stuff getting stolen or property getting damage. So basically, the danger here is not about getting kicked in the ass but more on the side of keeping your property and belongings safe."
   ]
  },
  {
   "cell_type": "code",
   "execution_count": null,
   "id": "43481606-ef76-40ff-890f-8d3c551dfd16",
   "metadata": {},
   "outputs": [],
   "source": [
    "theft_df = edison_df[edison_df['Primary Type'] == 'THEFT']\n",
    "\n",
    "edisone_locations = list(zip(theft_df['Latitude'], theft_df['Longitude']))\n",
    "\n",
    "edisonMap = folium.Map(locations = [theft_df['Latitude'].mean(), theft_df['Longitude'].mean()], zoom_start=10)\n",
    "HeatMap(edisone_locations).add_to(edisonMap)\n",
    "edisonMap.save('edison_park_map.html')\n",
    "edisonMap"
   ]
  },
  {
   "cell_type": "markdown",
   "id": "f62ef5e6-d6ce-47de-aacc-4f5041820495",
   "metadata": {},
   "source": [
    "## Insight\n",
    "***\n",
    "Looking at the heatmap, it’s clear that theft usually goes down on the streets, especially around North Olmstead Ave and North Avondale Ave. That kinda hints these aren’t house break-ins but more like street robberies or quick grabs where there’s traffic and people around. Basically, the action isn’t happening inside homes — it’s out in the open."
   ]
  },
  {
   "cell_type": "code",
   "execution_count": null,
   "id": "ea6d0b0c-85bb-4f2c-afec-d3ee099c7b05",
   "metadata": {},
   "outputs": [],
   "source": [
    "sex_offense_df = data[data['Primary Type'] == 'SEX OFFENSE']\n",
    "sex_crime_years = sex_offense_df.groupby(['Year']).size().reset_index(name='sex related crime')\n",
    "sns.barplot(data = sex_crime_years, y = 'Year', x = 'sex related crime', orient = 'h', hue = 'Year')\n",
    "plt.gcf().set_size_inches(15,7)\n",
    "plt.grid(axis='x', alpha=0.3)\n",
    "plt.show()"
   ]
  },
  {
   "cell_type": "markdown",
   "id": "4d76a867-ec85-4528-87bc-98e1aa54753d",
   "metadata": {},
   "source": [
    "## Insight\n",
    "***\n",
    "Sex-related crimes were way higher back in the early 2000s (2000–2003), then they dropped pretty steadily through the 2010s. Around 2018, though, the numbers started climbing back up, with 2019 and 2023 being the highest spikes in recent years. 2020 looks super low, but that’s likely because of COVID lockdowns — less movement and maybe less reporting. The big picture? We’ve made progress since the early 2000s, but these crimes are creeping up again lately, so it’s still a serious issue."
   ]
  },
  {
   "cell_type": "code",
   "execution_count": null,
   "id": "98288dec-33f5-4683-8cbc-a3f6b8044e2f",
   "metadata": {},
   "outputs": [],
   "source": [
    "sex_crime_years = sex_offense_df.groupby(['Year']).size().reset_index(name='sex related crime')\n",
    "correlation_matrix = sex_crime_years.corr(numeric_only=True)\n",
    "sns.heatmap(correlation_matrix, annot=True, cmap=\"coolwarm\", center=0, fmt=\".2f\")\n",
    "plt.title(\"Correlation Heatmap\", fontsize=14, weight=\"bold\")\n",
    "plt.show()"
   ]
  },
  {
   "cell_type": "markdown",
   "id": "0bb394f8-59cc-45e4-8e27-0a067e59c2b6",
   "metadata": {},
   "source": [
    "## Insight\n",
    "***\n",
    "So the correlation Map of sex related crimes and year, says that Sex related crimes chicago have strongly decreased as the years goes by. So basically no relation, what i understand that as they not relate as the years goes by.."
   ]
  }
 ],
 "metadata": {
  "kernelspec": {
   "display_name": "Python 3 (ipykernel)",
   "language": "python",
   "name": "python3"
  },
  "language_info": {
   "codemirror_mode": {
    "name": "ipython",
    "version": 3
   },
   "file_extension": ".py",
   "mimetype": "text/x-python",
   "name": "python",
   "nbconvert_exporter": "python",
   "pygments_lexer": "ipython3",
   "version": "3.13.1"
  }
 },
 "nbformat": 4,
 "nbformat_minor": 5
}
